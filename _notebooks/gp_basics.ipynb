{
 "cells": [
  {
   "cell_type": "markdown",
   "metadata": {},
   "source": [
    "# \"সম্ভাব্যতা তত্ত্ব ও বায়েসিয়ান পরিসংখ্যান: Probability theory and Bayesian statistics\"\n",
    "- toc: true\n",
    "- branch: master\n",
    "- badges: true\n",
    "- comments: true\n",
    "- categories: [fastpages, jupyter]\n",
    "- image: images/some_folder/your_image.png\n",
    "- hide: false\n",
    "- search_exclude: true\n",
    "- metadata_key1: bayesian statistics\n",
    "- metadata_key2: probability"
   ]
  },
  {
   "cell_type": "code",
   "execution_count": 60,
   "metadata": {},
   "outputs": [],
   "source": [
    "import pandas as pd\n",
    "import numpy as np\n",
    "import matplotlib.pyplot as plt\n",
    "\n",
    "from numpy.linalg import inv\n",
    "from numpy.linalg import cholesky, det, lstsq\n",
    "from scipy.optimize import minimize\n",
    "import random\n",
    "\n",
    "from matplotlib import cm\n",
    "from mpl_toolkits.mplot3d import Axes3D\n",
    "from sklearn.gaussian_process import GaussianProcessRegressor\n",
    "from sklearn.gaussian_process.kernels import RBF, ConstantKernel as C, Matern, ExpSineSquared, WhiteKernel\n",
    "from sklearn.model_selection import GridSearchCV\n",
    "\n",
    "import sklearn.gaussian_process as gp\n",
    "from sklearn.model_selection import train_test_split\n",
    "from sklearn.metrics import r2_score\n",
    "from sklearn.preprocessing import StandardScaler"
   ]
  },
  {
   "cell_type": "markdown",
   "metadata": {},
   "source": [
    "## বায়াসের উপপাদ্য \n",
    "   \n",
    "নতুন প্রমাণ / ডেটা পেলে, কোন বিষয়ে আমাদের আগের অনুমান পরিবর্তন করার উপায় \n",
    "\n",
    "$$p\\left(H|e\\right)=\\frac{p\\left(e|H\\right)p\\left(H\\right)}{p\\left(e\\right)}$$\n",
    "\n",
    "![bayes-rule](images/bayes-rule.png)\n",
    "\n",
    "Link:\n",
    "* [Chamok Hasan's lecture](https://www.youtube.com/watch?v=rZW0iYPJurU)\n",
    "* [Bayes' rule Image](https://medium.com/@mark.rethana/bayesian-statistics-and-naive-bayes-classifier-33b735ad7b16)"
   ]
  },
  {
   "cell_type": "markdown",
   "metadata": {},
   "source": [
    "## সহজ সরল গাউসিয়ান প্রসেস: Gaussian Process 101\n",
    "\n",
    "গাউসিয়ান প্রসেস (GP) অন্য পাঁচ দশটা মেশিন লার্নিং মডেল এর মত একটা মডেল।  প্রবাবিলিটি থিওরির কারনে এটাকে রহস্যময় মনে হতে পারে।  এই পোস্টে GP এর বেসিক উদাহরণ সহ আলোচনা করবো।  এটাকে ব্যবহার করে আমরা প্রেডিকশন করবো।  \n",
    "\n",
    "গাউসিয়ান প্রসেস (GP) খুব প্রয়োজনীয় একটা মডেল। এটার রয়েছে নানাবিধ ব্যবহার, যেমন ফোরকাস্টিং, অপ্টিমাইজেশান, অনিশ্চয়তা নির্ণয় । এখানে GP এর বেসিক নিয়ে আলোচনা করবো এবং সাথে থাকবে উদাহরণ। "
   ]
  },
  {
   "cell_type": "markdown",
   "metadata": {},
   "source": [
    "একটা ছোট ডাটাসেট দিয়ে শুরু করা যাক।  একটি মডেল ট্রেইন করবো, যার ইনপুট X, আর আউটপুট Y.\n",
    "Python table"
   ]
  },
  {
   "cell_type": "markdown",
   "metadata": {},
   "source": [
    "ডাটা কে প্লট করি।\n",
    "scatter plot\n",
    "মডেল ট্রেইন করা মডেল নতুন X এর জন্য Y এর ভ্যালু বলে দিতে পারবে।\n"
   ]
  },
  {
   "cell_type": "code",
   "execution_count": 61,
   "metadata": {},
   "outputs": [],
   "source": [
    "rng = np.random.RandomState(0)\n",
    "\n",
    "df = pd.DataFrame()\n",
    "df['num_nodes'] = [15 * random.random() for i in range(50)]\n",
    "df['run_time'] = [random.random()*10 + 14 for i in range(df.shape[0])] + df['num_nodes']"
   ]
  },
  {
   "cell_type": "markdown",
   "metadata": {},
   "source": [
    "ডাটা এর একটা অংশ দেখে নেই"
   ]
  },
  {
   "cell_type": "code",
   "execution_count": 62,
   "metadata": {},
   "outputs": [
    {
     "data": {
      "text/html": [
       "<div>\n",
       "<style scoped>\n",
       "    .dataframe tbody tr th:only-of-type {\n",
       "        vertical-align: middle;\n",
       "    }\n",
       "\n",
       "    .dataframe tbody tr th {\n",
       "        vertical-align: top;\n",
       "    }\n",
       "\n",
       "    .dataframe thead th {\n",
       "        text-align: right;\n",
       "    }\n",
       "</style>\n",
       "<table border=\"1\" class=\"dataframe\">\n",
       "  <thead>\n",
       "    <tr style=\"text-align: right;\">\n",
       "      <th></th>\n",
       "      <th>num_nodes</th>\n",
       "      <th>run_time</th>\n",
       "    </tr>\n",
       "  </thead>\n",
       "  <tbody>\n",
       "    <tr>\n",
       "      <th>0</th>\n",
       "      <td>0.099249</td>\n",
       "      <td>18.471255</td>\n",
       "    </tr>\n",
       "    <tr>\n",
       "      <th>1</th>\n",
       "      <td>3.070330</td>\n",
       "      <td>22.603865</td>\n",
       "    </tr>\n",
       "    <tr>\n",
       "      <th>2</th>\n",
       "      <td>1.783515</td>\n",
       "      <td>18.658316</td>\n",
       "    </tr>\n",
       "    <tr>\n",
       "      <th>3</th>\n",
       "      <td>14.502906</td>\n",
       "      <td>28.927156</td>\n",
       "    </tr>\n",
       "    <tr>\n",
       "      <th>4</th>\n",
       "      <td>2.541803</td>\n",
       "      <td>22.530471</td>\n",
       "    </tr>\n",
       "  </tbody>\n",
       "</table>\n",
       "</div>"
      ],
      "text/plain": [
       "   num_nodes   run_time\n",
       "0   0.099249  18.471255\n",
       "1   3.070330  22.603865\n",
       "2   1.783515  18.658316\n",
       "3  14.502906  28.927156\n",
       "4   2.541803  22.530471"
      ]
     },
     "execution_count": 62,
     "metadata": {},
     "output_type": "execute_result"
    }
   ],
   "source": [
    "df.head()"
   ]
  },
  {
   "cell_type": "code",
   "execution_count": 63,
   "metadata": {},
   "outputs": [],
   "source": [
    "scaler = StandardScaler()\n",
    "scaled_features = scaler.fit_transform(df.values)\n",
    "scaled_df = pd.DataFrame(scaled_features, index=df.index, columns=df.columns)\n",
    "\n",
    "# Prepare train test data\n",
    "columns = ['num_nodes', 'run_time']\n",
    "X_column = 'num_nodes'\n",
    "target = 'run_time'\n",
    "adf = scaled_df[columns].copy()\n",
    "\n",
    "Y = adf[target]\n",
    "Y = Y.ravel()\n",
    "del adf[target]\n",
    "\n",
    "X = np.atleast_2d(adf[X_column]).T\n",
    "\n",
    "x_train = X\n",
    "y_train = Y\n",
    "# Making test set\n",
    "x_test_raw = np.atleast_2d([5, -1, 2, -.6]).T\n",
    "x_test = scaler.fit_transform(x_test_raw)"
   ]
  },
  {
   "cell_type": "markdown",
   "metadata": {},
   "source": [
    "\n",
    "কার্নেল (Kernel) দুটি ডাটা পয়েন্টের ভিতর কতখানি মিল আছে সেটা বের করে।\n",
    "\n",
    "কার্নেল এর প্রকার ভেদে মডেলের রেজাল্ট পরিবর্তন হয়।\n"
   ]
  },
  {
   "cell_type": "code",
   "execution_count": 64,
   "metadata": {},
   "outputs": [],
   "source": [
    "kernel_choice = 'RBF' #st.radio(\"Kernel\", ('RBF', 'Matern'))\n",
    "\n",
    "kernels = {\n",
    "    'RBF': 1.0 * RBF(length_scale=1.0, length_scale_bounds=(1e-1, 10.0)),\n",
    "    'Matern': 1.0 * Matern(length_scale=1.0, length_scale_bounds=(1e-1, 10.0), nu=1.5)\n",
    "}\n"
   ]
  },
  {
   "cell_type": "code",
   "execution_count": 65,
   "metadata": {},
   "outputs": [
    {
     "name": "stderr",
     "output_type": "stream",
     "text": [
      "/Users/mzaman/anaconda3/envs/jup/lib/python3.7/site-packages/sklearn/gaussian_process/gpr.py:357: UserWarning: Predicted variances smaller than 0. Setting those variances to 0.\n",
      "  warnings.warn(\"Predicted variances smaller than 0. \"\n",
      "/Users/mzaman/anaconda3/envs/jup/lib/python3.7/site-packages/sklearn/gaussian_process/gpr.py:480: ConvergenceWarning: fmin_l_bfgs_b terminated abnormally with the  state: {'grad': array([-5.61859924e-05,  2.88910175e+01]), 'task': b'ABNORMAL_TERMINATION_IN_LNSRCH', 'funcalls': 64, 'nit': 8, 'warnflag': 2}\n",
      "  ConvergenceWarning)\n"
     ]
    },
    {
     "data": {
      "text/html": [
       "<div>\n",
       "<style scoped>\n",
       "    .dataframe tbody tr th:only-of-type {\n",
       "        vertical-align: middle;\n",
       "    }\n",
       "\n",
       "    .dataframe tbody tr th {\n",
       "        vertical-align: top;\n",
       "    }\n",
       "\n",
       "    .dataframe thead th {\n",
       "        text-align: right;\n",
       "    }\n",
       "</style>\n",
       "<table border=\"1\" class=\"dataframe\">\n",
       "  <thead>\n",
       "    <tr style=\"text-align: right;\">\n",
       "      <th></th>\n",
       "      <th>y_pred</th>\n",
       "      <th>y_pred_ci</th>\n",
       "      <th>x_test</th>\n",
       "      <th>kernel</th>\n",
       "    </tr>\n",
       "  </thead>\n",
       "  <tbody>\n",
       "    <tr>\n",
       "      <th>0</th>\n",
       "      <td>1.259833</td>\n",
       "      <td>0.000000</td>\n",
       "      <td>1.519844</td>\n",
       "      <td>RBF</td>\n",
       "    </tr>\n",
       "    <tr>\n",
       "      <th>1</th>\n",
       "      <td>3.426676</td>\n",
       "      <td>0.318761</td>\n",
       "      <td>-0.978530</td>\n",
       "      <td>RBF</td>\n",
       "    </tr>\n",
       "    <tr>\n",
       "      <th>2</th>\n",
       "      <td>16.205257</td>\n",
       "      <td>1.824233</td>\n",
       "      <td>0.270657</td>\n",
       "      <td>RBF</td>\n",
       "    </tr>\n",
       "    <tr>\n",
       "      <th>3</th>\n",
       "      <td>-156.151044</td>\n",
       "      <td>19.733909</td>\n",
       "      <td>-0.811972</td>\n",
       "      <td>RBF</td>\n",
       "    </tr>\n",
       "    <tr>\n",
       "      <th>0</th>\n",
       "      <td>1.116123</td>\n",
       "      <td>0.448381</td>\n",
       "      <td>1.519844</td>\n",
       "      <td>Matern</td>\n",
       "    </tr>\n",
       "    <tr>\n",
       "      <th>1</th>\n",
       "      <td>-1.142748</td>\n",
       "      <td>23.864518</td>\n",
       "      <td>-0.978530</td>\n",
       "      <td>Matern</td>\n",
       "    </tr>\n",
       "    <tr>\n",
       "      <th>2</th>\n",
       "      <td>0.308245</td>\n",
       "      <td>17.405850</td>\n",
       "      <td>0.270657</td>\n",
       "      <td>Matern</td>\n",
       "    </tr>\n",
       "    <tr>\n",
       "      <th>3</th>\n",
       "      <td>-0.110301</td>\n",
       "      <td>49.633430</td>\n",
       "      <td>-0.811972</td>\n",
       "      <td>Matern</td>\n",
       "    </tr>\n",
       "  </tbody>\n",
       "</table>\n",
       "</div>"
      ],
      "text/plain": [
       "       y_pred  y_pred_ci    x_test  kernel\n",
       "0    1.259833   0.000000  1.519844     RBF\n",
       "1    3.426676   0.318761 -0.978530     RBF\n",
       "2   16.205257   1.824233  0.270657     RBF\n",
       "3 -156.151044  19.733909 -0.811972     RBF\n",
       "0    1.116123   0.448381  1.519844  Matern\n",
       "1   -1.142748  23.864518 -0.978530  Matern\n",
       "2    0.308245  17.405850  0.270657  Matern\n",
       "3   -0.110301  49.633430 -0.811972  Matern"
      ]
     },
     "execution_count": 65,
     "metadata": {},
     "output_type": "execute_result"
    }
   ],
   "source": [
    "dfs = []\n",
    "for kernel_choice in kernels.keys():\n",
    "    gp = GaussianProcessRegressor(kernel=kernels[kernel_choice], n_restarts_optimizer=20)\n",
    "    gp.fit(x_train, y_train)\n",
    "    y_pred, cov = gp.predict(x_test, return_std=True)\n",
    "        \n",
    "    cdf = pd.DataFrame({'y_pred': y_pred, 'y_pred_ci': 1.96 * cov, 'x_test': x_test.flatten()})\n",
    "    cdf['kernel'] = kernel_choice\n",
    "    dfs.append(cdf)\n",
    "    \n",
    "df = pd.concat(dfs)\n",
    "df"
   ]
  },
  {
   "cell_type": "code",
   "execution_count": 66,
   "metadata": {},
   "outputs": [],
   "source": [
    "#hide_input\n",
    "\n",
    "# plot using matplotlib\n",
    "def get_plot(x_train, y_train, x_test, y_pred, cov, y_test=None):\n",
    "\n",
    "    # Plot the function, the prediction and the 95% confidence interval based on\n",
    "    # the MSE\n",
    "    fig = plt.figure()\n",
    "\n",
    "    plt.plot(x_train, y_train, 'b.', markersize=10, label='Observations')\n",
    "\n",
    "    plt.plot(x_test, y_pred, 'r.', label='Prediction')\n",
    "\n",
    "    plt.fill(np.concatenate([x_test, x_test[::-1]]),\n",
    "             np.concatenate([y_pred - 1.9600 * cov,\n",
    "                            (y_pred + 1.9600 * cov)[::-1]]),\n",
    "             alpha=.8, fc='k', ec='None', label='95% confidence interval')\n",
    "\n",
    "    plt.xlabel('num_nodes')\n",
    "    plt.ylabel('run_time')\n",
    "    return fig\n",
    "\n",
    "\n",
    "#kernel_choice = 'Matern'\n",
    "#y_pred = df_result[df_result['kernel_choice']==kernel_choice]['y_pred'].values[0]\n",
    "#cov = df_result[df_result['kernel_choice']==kernel_choice]['cov'].values[0]\n",
    "#figobj = get_plot(x_train, y_train, x_test, y_pred, cov)"
   ]
  },
  {
   "cell_type": "code",
   "execution_count": 71,
   "metadata": {
    "code_folding": []
   },
   "outputs": [
    {
     "data": {
      "text/html": [
       "\n",
       "<div id=\"altair-viz-1b00f246814d44c7a5a49d5ba7450980\"></div>\n",
       "<script type=\"text/javascript\">\n",
       "  (function(spec, embedOpt){\n",
       "    let outputDiv = document.currentScript.previousElementSibling;\n",
       "    if (outputDiv.id !== \"altair-viz-1b00f246814d44c7a5a49d5ba7450980\") {\n",
       "      outputDiv = document.getElementById(\"altair-viz-1b00f246814d44c7a5a49d5ba7450980\");\n",
       "    }\n",
       "    const paths = {\n",
       "      \"vega\": \"https://cdn.jsdelivr.net/npm//vega@5?noext\",\n",
       "      \"vega-lib\": \"https://cdn.jsdelivr.net/npm//vega-lib?noext\",\n",
       "      \"vega-lite\": \"https://cdn.jsdelivr.net/npm//vega-lite@4.8.1?noext\",\n",
       "      \"vega-embed\": \"https://cdn.jsdelivr.net/npm//vega-embed@6?noext\",\n",
       "    };\n",
       "\n",
       "    function loadScript(lib) {\n",
       "      return new Promise(function(resolve, reject) {\n",
       "        var s = document.createElement('script');\n",
       "        s.src = paths[lib];\n",
       "        s.async = true;\n",
       "        s.onload = () => resolve(paths[lib]);\n",
       "        s.onerror = () => reject(`Error loading script: ${paths[lib]}`);\n",
       "        document.getElementsByTagName(\"head\")[0].appendChild(s);\n",
       "      });\n",
       "    }\n",
       "\n",
       "    function showError(err) {\n",
       "      outputDiv.innerHTML = `<div class=\"error\" style=\"color:red;\">${err}</div>`;\n",
       "      throw err;\n",
       "    }\n",
       "\n",
       "    function displayChart(vegaEmbed) {\n",
       "      vegaEmbed(outputDiv, spec, embedOpt)\n",
       "        .catch(err => showError(`Javascript Error: ${err.message}<br>This usually means there's a typo in your chart specification. See the javascript console for the full traceback.`));\n",
       "    }\n",
       "\n",
       "    if(typeof define === \"function\" && define.amd) {\n",
       "      requirejs.config({paths});\n",
       "      require([\"vega-embed\"], displayChart, err => showError(`Error loading script: ${err.message}`));\n",
       "    } else if (typeof vegaEmbed === \"function\") {\n",
       "      displayChart(vegaEmbed);\n",
       "    } else {\n",
       "      loadScript(\"vega\")\n",
       "        .then(() => loadScript(\"vega-lite\"))\n",
       "        .then(() => loadScript(\"vega-embed\"))\n",
       "        .catch(showError)\n",
       "        .then(() => displayChart(vegaEmbed));\n",
       "    }\n",
       "  })({\"config\": {\"view\": {\"continuousWidth\": 400, \"continuousHeight\": 300}}, \"layer\": [{\"data\": {\"name\": \"data-7e058ad2b8c284422f3162766b6bab55\"}, \"mark\": {\"type\": \"point\", \"color\": \"lightgrey\"}, \"encoding\": {\"x\": {\"type\": \"quantitative\", \"field\": \"x_train\"}, \"y\": {\"type\": \"quantitative\", \"field\": \"y_train\"}}}, {\"data\": {\"name\": \"data-a3affca9b05a7c8dfb22def5dcce6306\"}, \"mark\": \"point\", \"encoding\": {\"color\": {\"condition\": {\"type\": \"nominal\", \"field\": \"kernel\", \"selection\": \"Kernel \"}, \"value\": \"lightgray\"}, \"x\": {\"type\": \"quantitative\", \"axis\": {\"title\": \"num_nodes\"}, \"field\": \"x_test\"}, \"y\": {\"type\": \"quantitative\", \"axis\": {\"title\": \"run_time\"}, \"field\": \"y_pred\"}}, \"selection\": {\"Kernel \": {\"type\": \"single\", \"fields\": [\"kernel\"], \"bind\": {\"input\": \"select\", \"options\": [\"RBF\", \"Matern\"]}}}}, {\"data\": {\"name\": \"data-a3affca9b05a7c8dfb22def5dcce6306\"}, \"mark\": \"errorbar\", \"encoding\": {\"x\": {\"type\": \"quantitative\", \"field\": \"x_test\"}, \"y\": {\"type\": \"quantitative\", \"field\": \"ymin\"}, \"y2\": {\"field\": \"ymax\"}}, \"transform\": [{\"calculate\": \"datum.y_pred-datum.y_pred_ci\", \"as\": \"ymin\"}, {\"calculate\": \"datum.y_pred+datum.y_pred_ci\", \"as\": \"ymax\"}]}], \"$schema\": \"https://vega.github.io/schema/vega-lite/v4.8.1.json\", \"datasets\": {\"data-7e058ad2b8c284422f3162766b6bab55\": [{\"x_train\": -1.6849040822313663, \"y_train\": -1.660726398143421}, {\"x_train\": -1.0324975795146212, \"y_train\": -0.8091459296017172}, {\"x_train\": -1.3150635797005263, \"y_train\": -1.6221800702703408}, {\"x_train\": 1.4779309298532821, \"y_train\": 0.4938539812757775}, {\"x_train\": -1.1485545311755652, \"y_train\": -0.824269915339017}, {\"x_train\": -0.948192703430413, \"y_train\": -1.7478068311375683}, {\"x_train\": 1.2218721713494851, \"y_train\": 0.7678405153177907}, {\"x_train\": -0.18297214049276617, \"y_train\": 0.4716910915235974}, {\"x_train\": -0.8727084520756225, \"y_train\": 0.1943008148419046}, {\"x_train\": 1.5104980569886004, \"y_train\": 0.8409113586460744}, {\"x_train\": 1.3520142165654185, \"y_train\": 1.6546673036037354}, {\"x_train\": -1.460333504659231, \"y_train\": -1.5336691051115146}, {\"x_train\": -0.425126004554197, \"y_train\": -0.6311152645373527}, {\"x_train\": 1.32260654396265, \"y_train\": 0.86897275878332}, {\"x_train\": -0.3555849135766992, \"y_train\": -1.2836308166897465}, {\"x_train\": -0.2255523296935922, \"y_train\": -0.1759477567865438}, {\"x_train\": -0.7201831436861076, \"y_train\": -1.345685845257394}, {\"x_train\": -1.0718842164419762, \"y_train\": -0.4653735899267346}, {\"x_train\": -1.6640294934144264, \"y_train\": -1.7927192298298302}, {\"x_train\": -1.0514399972964776, \"y_train\": -1.629893613972174}, {\"x_train\": 0.8602449323971899, \"y_train\": -0.08781473535743534}, {\"x_train\": 0.793462406061139, \"y_train\": 0.08905972768948829}, {\"x_train\": 0.565216227798838, \"y_train\": 1.0938812469804629}, {\"x_train\": 0.9769927442858808, \"y_train\": -0.0010067182003148949}, {\"x_train\": 0.253371685830911, \"y_train\": 0.3088063961922144}, {\"x_train\": 1.315280731880474, \"y_train\": 1.2957171125386273}, {\"x_train\": 1.5157549216795434, \"y_train\": 1.718649641916639}, {\"x_train\": 1.240088114607147, \"y_train\": 2.1039563377454793}, {\"x_train\": -1.2985673322186115, \"y_train\": -1.1180871292975556}, {\"x_train\": 0.038410864718206116, \"y_train\": -0.15184988537393532}, {\"x_train\": 0.4010765826668175, \"y_train\": 1.4098891205409994}, {\"x_train\": -0.9026396108348667, \"y_train\": -0.5554872965778143}, {\"x_train\": 0.4865988633766591, \"y_train\": 0.27029059449146414}, {\"x_train\": 0.5673774770082332, \"y_train\": 0.31382625687552196}, {\"x_train\": 0.45474376480352346, \"y_train\": 0.41953687593456923}, {\"x_train\": 0.6563515092789012, \"y_train\": 0.9563398364191303}, {\"x_train\": 0.802335457507515, \"y_train\": 0.5751806337757583}, {\"x_train\": -1.3081122075050764, \"y_train\": -1.115826084647121}, {\"x_train\": 1.4178389827100208, \"y_train\": 0.6976542383974594}, {\"x_train\": -1.543182319286392, \"y_train\": -0.44291501898746827}, {\"x_train\": 0.08833482190977958, \"y_train\": -0.6936756816423097}, {\"x_train\": 1.5210713304890402, \"y_train\": 0.8132390444779384}, {\"x_train\": -0.22604027370904067, \"y_train\": 0.42963519065135336}, {\"x_train\": -0.5187294859606946, \"y_train\": 0.5625895543054161}, {\"x_train\": -0.5034667520205208, \"y_train\": 0.08119130377751362}, {\"x_train\": 0.18886802902095767, \"y_train\": 0.39336795949706554}, {\"x_train\": 0.6182317110401674, \"y_train\": 1.018074531044784}, {\"x_train\": 0.33226819903346, \"y_train\": 0.6875753563693958}, {\"x_train\": -1.163871306201459, \"y_train\": -1.2796611050456814}, {\"x_train\": -0.35520531714357484, \"y_train\": 0.43778923811952225}], \"data-a3affca9b05a7c8dfb22def5dcce6306\": [{\"y_pred\": 1.2598329782485962, \"y_pred_ci\": 0.0, \"x_test\": 1.5198441733370895, \"kernel\": \"RBF\"}, {\"y_pred\": 3.4266756009310484, \"y_pred_ci\": 0.31876080815339874, \"x_test\": -0.9785298102307289, \"kernel\": \"RBF\"}, {\"y_pred\": 16.205257144989446, \"y_pred_ci\": 1.8242326274977156, \"x_test\": 0.2706571815531803, \"kernel\": \"RBF\"}, {\"y_pred\": -156.15104398626136, \"y_pred_ci\": 19.733909167983693, \"x_test\": -0.8119715446595411, \"kernel\": \"RBF\"}, {\"y_pred\": 1.1161230303787306, \"y_pred_ci\": 0.4483808432723657, \"x_test\": 1.5198441733370895, \"kernel\": \"Matern\"}, {\"y_pred\": -1.1427479405841794, \"y_pred_ci\": 23.86451761498847, \"x_test\": -0.9785298102307289, \"kernel\": \"Matern\"}, {\"y_pred\": 0.30824467957046764, \"y_pred_ci\": 17.40585016388754, \"x_test\": 0.2706571815531803, \"kernel\": \"Matern\"}, {\"y_pred\": -0.11030115693969833, \"y_pred_ci\": 49.63343044838338, \"x_test\": -0.8119715446595411, \"kernel\": \"Matern\"}]}}, {\"mode\": \"vega-lite\"});\n",
       "</script>"
      ],
      "text/plain": [
       "alt.LayerChart(...)"
      ]
     },
     "execution_count": 71,
     "metadata": {},
     "output_type": "execute_result"
    }
   ],
   "source": [
    "import altair as alt\n",
    "\n",
    "# selection widget\n",
    "input_dropdown = alt.binding_select(options=['RBF','Matern'])\n",
    "selection = alt.selection_single(fields=['kernel'], bind=input_dropdown, name='Kernel ')\n",
    "\n",
    "color = alt.condition(selection,\n",
    "                    alt.Color('kernel:N'),\n",
    "                    alt.value('lightgray'))\n",
    "\n",
    "# Plot prediction data\n",
    "prediction_plot = alt.Chart(df).mark_point().encode(\n",
    "    x=alt.X('x_test:Q', axis=alt.Axis(title=X_column)),\n",
    "    y=alt.Y('y_pred:Q', axis=alt.Axis(title=target)),\n",
    "    color=color,\n",
    ").add_selection(selection)\n",
    "\n",
    "# Plot uncertainty\n",
    "band = alt.Chart(df).mark_errorband(extent='ci').encode(\n",
    "    x='x_test:Q',\n",
    "    y=alt.Y('y_pred_ci:Q'),\n",
    ")\n",
    "\n",
    "base = alt.Chart(df).transform_calculate(\n",
    "    ymin=\"datum.y_pred-datum.y_pred_ci\",\n",
    "    ymax=\"datum.y_pred+datum.y_pred_ci\"\n",
    ")\n",
    "\n",
    "# generate the error bars\n",
    "errorbars = base.mark_errorbar().encode(\n",
    "    x=\"x_test:Q\",\n",
    "    y=\"ymin:Q\",\n",
    "    y2=\"ymax:Q\"\n",
    ")\n",
    "\n",
    "# Plot training data\n",
    "df_train = pd.DataFrame({'x_train': x_train.flatten(), 'y_train': y_train.flatten()})\n",
    "data_plot = alt.Chart(df_train).mark_point(color=\"lightgrey\").encode(\n",
    "    x='x_train:Q',\n",
    "    y='y_train:Q',\n",
    ")\n",
    "\n",
    "\n",
    "\n",
    "data_plot + prediction_plot + errorbars"
   ]
  },
  {
   "cell_type": "markdown",
   "metadata": {},
   "source": [
    "GP কার্নেল ও নয়েস স্কেল ঠিক করে দিতে হয়। এটা করতে হয়  কিছু ডেটা ব্যবহার করে।  এই প্রসেসটাকে hyperparameter tuning বলা হয়ে থাকে। L-BGFS-B অপটিমাইজার দিয়ে এই hyperparameter ঠিক করা হয়।   "
   ]
  },
  {
   "cell_type": "code",
   "execution_count": 68,
   "metadata": {},
   "outputs": [
    {
     "data": {
      "text/plain": [
       "[Hyperparameter(name='k1__k1__constant_value', value_type='numeric', bounds=array([[1.e-05, 1.e+05]]), n_elements=1, fixed=False),\n",
       " Hyperparameter(name='k1__k2__length_scale', value_type='numeric', bounds=array([[1.e-05, 1.e+05]]), n_elements=1, fixed=False),\n",
       " Hyperparameter(name='k2__noise_level', value_type='numeric', bounds=array([[1.e-05, 1.e+05]]), n_elements=1, fixed=False)]"
      ]
     },
     "execution_count": 68,
     "metadata": {},
     "output_type": "execute_result"
    }
   ],
   "source": [
    "kernel = C() + Matern(length_scale=2, nu=3/2) + WhiteKernel(noise_level=1)\n",
    "kernel.hyperparameters"
   ]
  },
  {
   "cell_type": "markdown",
   "metadata": {},
   "source": [
    "অপটিমাম প্যারামিটার ভ্যালু:"
   ]
  },
  {
   "cell_type": "code",
   "execution_count": 72,
   "metadata": {},
   "outputs": [
    {
     "data": {
      "text/plain": [
       "0.00316**2 + Matern(length_scale=2.55, nu=1.5) + WhiteKernel(noise_level=0.325)"
      ]
     },
     "execution_count": 72,
     "metadata": {},
     "output_type": "execute_result"
    }
   ],
   "source": [
    "gp = GaussianProcessRegressor(kernel, n_restarts_optimizer=20)\n",
    "gp.fit(x_train, y_train)\n",
    "gp.kernel_"
   ]
  },
  {
   "cell_type": "code",
   "execution_count": null,
   "metadata": {},
   "outputs": [],
   "source": []
  }
 ],
 "metadata": {
  "hide_input": false,
  "kernelspec": {
   "display_name": "Python 3",
   "language": "python",
   "name": "python3"
  },
  "language_info": {
   "codemirror_mode": {
    "name": "ipython",
    "version": 3
   },
   "file_extension": ".py",
   "mimetype": "text/x-python",
   "name": "python",
   "nbconvert_exporter": "python",
   "pygments_lexer": "ipython3",
   "version": "3.7.3"
  }
 },
 "nbformat": 4,
 "nbformat_minor": 4
}

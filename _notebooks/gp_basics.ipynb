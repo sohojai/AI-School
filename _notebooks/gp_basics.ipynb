{
 "cells": [
  {
   "cell_type": "markdown",
   "metadata": {},
   "source": [
    "# \"সম্ভাব্যতা তত্ত্ব ও বায়েসিয়ান পরিসংখ্যান: Probability theory and Bayesian statistics\"\n",
    "- toc: true\n",
    "- branch: master\n",
    "- badges: true\n",
    "- comments: true\n",
    "- categories: [fastpages, jupyter]\n",
    "- image: images/some_folder/your_image.png\n",
    "- hide: false\n",
    "- search_exclude: true\n",
    "- metadata_key1: bayesian statistics\n",
    "- metadata_key2: probability"
   ]
  },
  {
   "cell_type": "code",
   "execution_count": 15,
   "metadata": {},
   "outputs": [],
   "source": [
    "import pandas as pd\n",
    "import numpy as np\n",
    "import matplotlib.pyplot as plt\n",
    "\n",
    "from numpy.linalg import inv\n",
    "from numpy.linalg import cholesky, det, lstsq\n",
    "from scipy.optimize import minimize\n",
    "import random\n",
    "\n",
    "from matplotlib import cm\n",
    "from mpl_toolkits.mplot3d import Axes3D\n",
    "from sklearn.gaussian_process import GaussianProcessRegressor\n",
    "from sklearn.gaussian_process.kernels import RBF, ConstantKernel as C, Matern, ExpSineSquared, WhiteKernel\n",
    "from sklearn.model_selection import GridSearchCV\n",
    "\n",
    "import sklearn.gaussian_process as gp\n",
    "from sklearn.model_selection import train_test_split\n",
    "from sklearn.metrics import r2_score\n",
    "from sklearn.preprocessing import StandardScaler"
   ]
  },
  {
   "cell_type": "markdown",
   "metadata": {},
   "source": [
    "## বায়াসের উপপাদ্য \n",
    "   \n",
    "নতুন প্রমাণ / ডেটা পেলে, কোন বিষয়ে আমাদের আগের অনুমান পরিবর্তন করার উপায় \n",
    "\n",
    "$$p\\left(H|e\\right)=\\frac{p\\left(e|H\\right)p\\left(H\\right)}{p\\left(e\\right)}$$\n",
    "\n",
    "![bayes-rule](images/bayes-rule.png)\n",
    "\n",
    "Link:\n",
    "* [Chamok Hasan's lecture](https://www.youtube.com/watch?v=rZW0iYPJurU)\n",
    "* [Bayes' rule Image](https://medium.com/@mark.rethana/bayesian-statistics-and-naive-bayes-classifier-33b735ad7b16)"
   ]
  },
  {
   "cell_type": "markdown",
   "metadata": {},
   "source": [
    "## সহজ সরল গাউসিয়ান প্রসেস: Gaussian Process 101\n",
    "\n",
    "গাউসিয়ান প্রসেস (GP) অন্য পাঁচ দশটা মেশিন লার্নিং মডেল এর মত একটা মডেল।  প্রবাবিলিটি থিওরির কারনে এটাকে রহস্যময় মনে হতে পারে।  এই পোস্টে GP এর বেসিক উদাহরণ সহ আলোচনা করবো।  এটাকে ব্যবহার করে আমরা প্রেডিকশন করবো।  \n",
    "\n",
    "গাউসিয়ান প্রসেস (GP) খুব প্রয়োজনীয় একটা মডেল। এটার রয়েছে নানাবিধ ব্যবহার, যেমন ফোরকাস্টিং, অপ্টিমাইজেশান, অনিশ্চয়তা নির্ণয় । এখানে GP এর বেসিক নিয়ে আলোচনা করবো এবং সাথে থাকবে উদাহরণ। "
   ]
  },
  {
   "cell_type": "markdown",
   "metadata": {},
   "source": [
    "একটা ছোট ডাটাসেট দিয়ে শুরু করা যাক।  একটি মডেল ট্রেইন করবো, যার ইনপুট X, আর আউটপুট Y.\n",
    "Python table"
   ]
  },
  {
   "cell_type": "markdown",
   "metadata": {},
   "source": [
    "ডাটা কে প্লট করি।\n",
    "scatter plot\n",
    "মডেল ট্রেইন করা মডেল নতুন X এর জন্য Y এর ভ্যালু বলে দিতে পারবে।\n"
   ]
  },
  {
   "cell_type": "code",
   "execution_count": 16,
   "metadata": {},
   "outputs": [],
   "source": [
    "rng = np.random.RandomState(0)\n",
    "\n",
    "df = pd.DataFrame()\n",
    "df['num_nodes'] = [15 * random.random() for i in range(50)]\n",
    "df['run_time'] = [random.random()*10 + 14 for i in range(df.shape[0])] + df['num_nodes']"
   ]
  },
  {
   "cell_type": "markdown",
   "metadata": {},
   "source": [
    "ডাটা এর একটা অংশ দেখে নেই"
   ]
  },
  {
   "cell_type": "code",
   "execution_count": 17,
   "metadata": {},
   "outputs": [
    {
     "data": {
      "text/html": [
       "<div>\n",
       "<style scoped>\n",
       "    .dataframe tbody tr th:only-of-type {\n",
       "        vertical-align: middle;\n",
       "    }\n",
       "\n",
       "    .dataframe tbody tr th {\n",
       "        vertical-align: top;\n",
       "    }\n",
       "\n",
       "    .dataframe thead th {\n",
       "        text-align: right;\n",
       "    }\n",
       "</style>\n",
       "<table border=\"1\" class=\"dataframe\">\n",
       "  <thead>\n",
       "    <tr style=\"text-align: right;\">\n",
       "      <th></th>\n",
       "      <th>num_nodes</th>\n",
       "      <th>run_time</th>\n",
       "    </tr>\n",
       "  </thead>\n",
       "  <tbody>\n",
       "    <tr>\n",
       "      <th>0</th>\n",
       "      <td>10.011123</td>\n",
       "      <td>33.932683</td>\n",
       "    </tr>\n",
       "    <tr>\n",
       "      <th>1</th>\n",
       "      <td>0.662198</td>\n",
       "      <td>16.171634</td>\n",
       "    </tr>\n",
       "    <tr>\n",
       "      <th>2</th>\n",
       "      <td>4.387310</td>\n",
       "      <td>27.419947</td>\n",
       "    </tr>\n",
       "    <tr>\n",
       "      <th>3</th>\n",
       "      <td>4.756711</td>\n",
       "      <td>27.799672</td>\n",
       "    </tr>\n",
       "    <tr>\n",
       "      <th>4</th>\n",
       "      <td>2.588224</td>\n",
       "      <td>23.200371</td>\n",
       "    </tr>\n",
       "  </tbody>\n",
       "</table>\n",
       "</div>"
      ],
      "text/plain": [
       "   num_nodes   run_time\n",
       "0  10.011123  33.932683\n",
       "1   0.662198  16.171634\n",
       "2   4.387310  27.419947\n",
       "3   4.756711  27.799672\n",
       "4   2.588224  23.200371"
      ]
     },
     "execution_count": 17,
     "metadata": {},
     "output_type": "execute_result"
    }
   ],
   "source": [
    "df.head()"
   ]
  },
  {
   "cell_type": "code",
   "execution_count": 18,
   "metadata": {},
   "outputs": [],
   "source": [
    "scaled_features = StandardScaler().fit_transform(df.values)\n",
    "scaled_df = pd.DataFrame(scaled_features, index=df.index, columns=df.columns)\n",
    "\n",
    "# Prepare train test data\n",
    "columns = ['num_nodes', 'run_time']\n",
    "target = 'run_time'\n",
    "adf = scaled_df[columns].copy()\n",
    "#adf = adf[0:100]\n",
    "Y = adf[target]\n",
    "Y = Y.ravel()\n",
    "del adf[target]\n",
    "\n",
    "X = np.atleast_2d(adf['num_nodes']).T\n",
    "\n",
    "x_train = X\n",
    "y_train = Y\n",
    "# Making test set\n",
    "x_test = np.atleast_2d([5, -1, 2, -.6]).T\n"
   ]
  },
  {
   "cell_type": "markdown",
   "metadata": {},
   "source": [
    "\n",
    "কার্নেল (Kernel) দুটি ডাটা পয়েন্টের ভিতর কতখানি মিল আছে সেটা বের করে।\n",
    "\n",
    "কার্নেল এর প্রকার ভেদে মডেলের রেজাল্ট পরিবর্তন হয়।\n"
   ]
  },
  {
   "cell_type": "code",
   "execution_count": 19,
   "metadata": {},
   "outputs": [],
   "source": [
    "kernel_choice = 'RBF' #st.radio(\"Kernel\", ('RBF', 'Matern'))\n",
    "\n",
    "kernels = {\n",
    "    'RBF': 1.0 * RBF(length_scale=1.0, length_scale_bounds=(1e-1, 10.0)),\n",
    "    'Matern': 1.0 * Matern(length_scale=1.0, length_scale_bounds=(1e-1, 10.0), nu=1.5)\n",
    "}\n"
   ]
  },
  {
   "cell_type": "code",
   "execution_count": 46,
   "metadata": {},
   "outputs": [
    {
     "data": {
      "text/html": [
       "<div>\n",
       "<style scoped>\n",
       "    .dataframe tbody tr th:only-of-type {\n",
       "        vertical-align: middle;\n",
       "    }\n",
       "\n",
       "    .dataframe tbody tr th {\n",
       "        vertical-align: top;\n",
       "    }\n",
       "\n",
       "    .dataframe thead th {\n",
       "        text-align: right;\n",
       "    }\n",
       "</style>\n",
       "<table border=\"1\" class=\"dataframe\">\n",
       "  <thead>\n",
       "    <tr style=\"text-align: right;\">\n",
       "      <th></th>\n",
       "      <th>y_pred</th>\n",
       "      <th>x_test</th>\n",
       "      <th>kernel</th>\n",
       "    </tr>\n",
       "  </thead>\n",
       "  <tbody>\n",
       "    <tr>\n",
       "      <th>0</th>\n",
       "      <td>-5.408512e-237</td>\n",
       "      <td>5.0</td>\n",
       "      <td>RBF</td>\n",
       "    </tr>\n",
       "    <tr>\n",
       "      <th>1</th>\n",
       "      <td>1.420753e+01</td>\n",
       "      <td>-1.0</td>\n",
       "      <td>RBF</td>\n",
       "    </tr>\n",
       "    <tr>\n",
       "      <th>2</th>\n",
       "      <td>-2.557457e+00</td>\n",
       "      <td>2.0</td>\n",
       "      <td>RBF</td>\n",
       "    </tr>\n",
       "    <tr>\n",
       "      <th>3</th>\n",
       "      <td>-3.853391e+01</td>\n",
       "      <td>-0.6</td>\n",
       "      <td>RBF</td>\n",
       "    </tr>\n",
       "    <tr>\n",
       "      <th>0</th>\n",
       "      <td>1.797096e-23</td>\n",
       "      <td>5.0</td>\n",
       "      <td>Matern</td>\n",
       "    </tr>\n",
       "    <tr>\n",
       "      <th>1</th>\n",
       "      <td>-5.276632e-01</td>\n",
       "      <td>-1.0</td>\n",
       "      <td>Matern</td>\n",
       "    </tr>\n",
       "    <tr>\n",
       "      <th>2</th>\n",
       "      <td>7.095403e-02</td>\n",
       "      <td>2.0</td>\n",
       "      <td>Matern</td>\n",
       "    </tr>\n",
       "    <tr>\n",
       "      <th>3</th>\n",
       "      <td>8.133148e-02</td>\n",
       "      <td>-0.6</td>\n",
       "      <td>Matern</td>\n",
       "    </tr>\n",
       "  </tbody>\n",
       "</table>\n",
       "</div>"
      ],
      "text/plain": [
       "          y_pred  x_test  kernel\n",
       "0 -5.408512e-237     5.0     RBF\n",
       "1   1.420753e+01    -1.0     RBF\n",
       "2  -2.557457e+00     2.0     RBF\n",
       "3  -3.853391e+01    -0.6     RBF\n",
       "0   1.797096e-23     5.0  Matern\n",
       "1  -5.276632e-01    -1.0  Matern\n",
       "2   7.095403e-02     2.0  Matern\n",
       "3   8.133148e-02    -0.6  Matern"
      ]
     },
     "execution_count": 46,
     "metadata": {},
     "output_type": "execute_result"
    }
   ],
   "source": [
    "dfs = []\n",
    "for kernel_choice in kernels.keys():\n",
    "    gp = GaussianProcessRegressor(kernel=kernels[kernel_choice], n_restarts_optimizer=20)\n",
    "    gp.fit(x_train, y_train)\n",
    "    y_pred, cov = gp.predict(x_test, return_std=True)\n",
    "        \n",
    "    cdf = pd.DataFrame({'y_pred': y_pred, 'x_test': x_test.flatten()})\n",
    "    cdf['kernel'] = kernel_choice\n",
    "    dfs.append(cdf)\n",
    "    \n",
    "df = pd.concat(dfs)\n",
    "df"
   ]
  },
  {
   "cell_type": "code",
   "execution_count": 47,
   "metadata": {},
   "outputs": [
    {
     "data": {
      "image/png": "[encoded data removed]",
      "text/plain": [
       "<Figure size 432x288 with 1 Axes>"
      ]
     },
     "metadata": {
      "needs_background": "light"
     },
     "output_type": "display_data"
    }
   ],
   "source": [
    "def get_plot(x_train, y_train, x_test, y_pred, cov, y_test=None):\n",
    "\n",
    "    # Plot the function, the prediction and the 95% confidence interval based on\n",
    "    # the MSE\n",
    "    fig = plt.figure()\n",
    "\n",
    "    plt.plot(x_train, y_train, 'b.', markersize=10, label='Observations')\n",
    "\n",
    "    plt.plot(x_test, y_pred, 'r.', label='Prediction')\n",
    "\n",
    "    plt.fill(np.concatenate([x_test, x_test[::-1]]),\n",
    "             np.concatenate([y_pred - 1.9600 * cov,\n",
    "                            (y_pred + 1.9600 * cov)[::-1]]),\n",
    "             alpha=.8, fc='k', ec='None', label='95% confidence interval')\n",
    "\n",
    "    plt.xlabel('num_nodes')\n",
    "    plt.ylabel('run_time')\n",
    "    return fig\n",
    "\n",
    "kernel_choice = 'Matern'\n",
    "y_pred = df_result[df_result['kernel_choice']==kernel_choice]['y_pred'].values[0]\n",
    "cov = df_result[df_result['kernel_choice']==kernel_choice]['cov'].values[0]\n",
    "figobj = get_plot(x_train, y_train, x_test, y_pred, cov)"
   ]
  },
  {
   "cell_type": "code",
   "execution_count": 45,
   "metadata": {
    "code_folding": []
   },
   "outputs": [
    {
     "data": {
      "text/html": [
       "\n",
       "<div id=\"altair-viz-32ea4a8ec100421c8c8af5d5c4e89ff9\"></div>\n",
       "<script type=\"text/javascript\">\n",
       "  (function(spec, embedOpt){\n",
       "    let outputDiv = document.currentScript.previousElementSibling;\n",
       "    if (outputDiv.id !== \"altair-viz-32ea4a8ec100421c8c8af5d5c4e89ff9\") {\n",
       "      outputDiv = document.getElementById(\"altair-viz-32ea4a8ec100421c8c8af5d5c4e89ff9\");\n",
       "    }\n",
       "    const paths = {\n",
       "      \"vega\": \"https://cdn.jsdelivr.net/npm//vega@5?noext\",\n",
       "      \"vega-lib\": \"https://cdn.jsdelivr.net/npm//vega-lib?noext\",\n",
       "      \"vega-lite\": \"https://cdn.jsdelivr.net/npm//vega-lite@4.8.1?noext\",\n",
       "      \"vega-embed\": \"https://cdn.jsdelivr.net/npm//vega-embed@6?noext\",\n",
       "    };\n",
       "\n",
       "    function loadScript(lib) {\n",
       "      return new Promise(function(resolve, reject) {\n",
       "        var s = document.createElement('script');\n",
       "        s.src = paths[lib];\n",
       "        s.async = true;\n",
       "        s.onload = () => resolve(paths[lib]);\n",
       "        s.onerror = () => reject(`Error loading script: ${paths[lib]}`);\n",
       "        document.getElementsByTagName(\"head\")[0].appendChild(s);\n",
       "      });\n",
       "    }\n",
       "\n",
       "    function showError(err) {\n",
       "      outputDiv.innerHTML = `<div class=\"error\" style=\"color:red;\">${err}</div>`;\n",
       "      throw err;\n",
       "    }\n",
       "\n",
       "    function displayChart(vegaEmbed) {\n",
       "      vegaEmbed(outputDiv, spec, embedOpt)\n",
       "        .catch(err => showError(`Javascript Error: ${err.message}<br>This usually means there's a typo in your chart specification. See the javascript console for the full traceback.`));\n",
       "    }\n",
       "\n",
       "    if(typeof define === \"function\" && define.amd) {\n",
       "      requirejs.config({paths});\n",
       "      require([\"vega-embed\"], displayChart, err => showError(`Error loading script: ${err.message}`));\n",
       "    } else if (typeof vegaEmbed === \"function\") {\n",
       "      displayChart(vegaEmbed);\n",
       "    } else {\n",
       "      loadScript(\"vega\")\n",
       "        .then(() => loadScript(\"vega-lite\"))\n",
       "        .then(() => loadScript(\"vega-embed\"))\n",
       "        .catch(showError)\n",
       "        .then(() => displayChart(vegaEmbed));\n",
       "    }\n",
       "  })({\"config\": {\"view\": {\"continuousWidth\": 400, \"continuousHeight\": 300}}, \"data\": {\"name\": \"data-5ad15c1f29451b5b86bfc42639e38b8f\"}, \"mark\": \"point\", \"encoding\": {\"color\": {\"condition\": {\"type\": \"nominal\", \"field\": \"kernel\", \"legend\": null, \"selection\": \"Kernel \"}, \"value\": \"lightgray\"}, \"x\": {\"type\": \"quantitative\", \"field\": \"x_test\"}, \"y\": {\"type\": \"quantitative\", \"field\": \"y_pred\"}}, \"selection\": {\"Kernel \": {\"type\": \"single\", \"fields\": [\"kernel\"], \"bind\": {\"input\": \"select\", \"options\": [\"RBF\", \"Matern\"]}}}, \"$schema\": \"https://vega.github.io/schema/vega-lite/v4.8.1.json\", \"datasets\": {\"data-5ad15c1f29451b5b86bfc42639e38b8f\": [{\"y_pred\": -5.408512457555289e-237, \"x_test\": 5.0, \"kernel\": \"RBF\"}, {\"y_pred\": 14.20752981144237, \"x_test\": -1.0, \"kernel\": \"RBF\"}, {\"y_pred\": -2.557457140674769, \"x_test\": 2.0, \"kernel\": \"RBF\"}, {\"y_pred\": -38.53391148292758, \"x_test\": -0.6, \"kernel\": \"RBF\"}, {\"y_pred\": 1.7970957571272956e-23, \"x_test\": 5.0, \"kernel\": \"Matern\"}, {\"y_pred\": -0.5276631781236109, \"x_test\": -1.0, \"kernel\": \"Matern\"}, {\"y_pred\": 0.0709540284028984, \"x_test\": 2.0, \"kernel\": \"Matern\"}, {\"y_pred\": 0.08133147520371775, \"x_test\": -0.6, \"kernel\": \"Matern\"}]}}, {\"mode\": \"vega-lite\"});\n",
       "</script>"
      ],
      "text/plain": [
       "alt.Chart(...)"
      ]
     },
     "execution_count": 45,
     "metadata": {},
     "output_type": "execute_result"
    }
   ],
   "source": [
    "import altair as alt\n",
    "input_dropdown = alt.binding_select(options=['RBF','Matern'])\n",
    "selection = alt.selection_single(fields=['kernel'], bind=input_dropdown, name='Kernel ')\n",
    "color = alt.condition(selection,\n",
    "                    alt.Color('kernel:N', legend=None),\n",
    "                    alt.value('lightgray'))\n",
    "alt.Chart(df).mark_point().encode(\n",
    "    x='x_test:Q',\n",
    "    y='y_pred:Q',\n",
    "    color=color,\n",
    "    #tooltip='run_time:N'\n",
    ").add_selection(selection)\n"
   ]
  },
  {
   "cell_type": "markdown",
   "metadata": {},
   "source": [
    "GP কার্নেল ও নয়েস স্কেল ঠিক করে দিতে হয়। এটা করতে হয়  কিছু ডেটা ব্যবহার করে।  এই প্রসেসটাকে hyperparameter tuning বলা হয়ে থাকে। L-BGFS-B অপটিমাইজার দিয়ে এই hyperparameter ঠিক করা হয়।   "
   ]
  },
  {
   "cell_type": "code",
   "execution_count": 22,
   "metadata": {},
   "outputs": [
    {
     "data": {
      "text/plain": [
       "[Hyperparameter(name='k1__k1__constant_value', value_type='numeric', bounds=array([[1.e-05, 1.e+05]]), n_elements=1, fixed=False),\n",
       " Hyperparameter(name='k1__k2__length_scale', value_type='numeric', bounds=array([[1.e-05, 1.e+05]]), n_elements=1, fixed=False),\n",
       " Hyperparameter(name='k2__noise_level', value_type='numeric', bounds=array([[1.e-05, 1.e+05]]), n_elements=1, fixed=False)]"
      ]
     },
     "execution_count": 22,
     "metadata": {},
     "output_type": "execute_result"
    }
   ],
   "source": [
    "kernel = C() + Matern(length_scale=2, nu=3/2) + WhiteKernel(noise_level=1)\n",
    "kernel.hyperparameters"
   ]
  },
  {
   "cell_type": "markdown",
   "metadata": {},
   "source": [
    "অপটিমাম প্যারামিটার ভ্যালু:"
   ]
  },
  {
   "cell_type": "code",
   "execution_count": 23,
   "metadata": {},
   "outputs": [
    {
     "data": {
      "text/plain": [
       "0.00316**2 + Matern(length_scale=0.639, nu=1.5) + WhiteKernel(noise_level=0.266)"
      ]
     },
     "execution_count": 23,
     "metadata": {},
     "output_type": "execute_result"
    }
   ],
   "source": [
    "gp = GaussianProcessRegressor(kernel, n_restarts_optimizer=20)\n",
    "gp.fit(x_train, y_train)\n",
    "gp.kernel_"
   ]
  },
  {
   "cell_type": "code",
   "execution_count": null,
   "metadata": {},
   "outputs": [],
   "source": []
  },
  {
   "cell_type": "markdown",
   "metadata": {},
   "source": [
    "# New heading"
   ]
  }
 ],
 "metadata": {
  "hide_input": false,
  "kernelspec": {
   "display_name": "Python 3",
   "language": "python",
   "name": "python3"
  },
  "language_info": {
   "codemirror_mode": {
    "name": "ipython",
    "version": 3
   },
   "file_extension": ".py",
   "mimetype": "text/x-python",
   "name": "python",
   "nbconvert_exporter": "python",
   "pygments_lexer": "ipython3",
   "version": "3.7.3"
  }
 },
 "nbformat": 4,
 "nbformat_minor": 4
}
